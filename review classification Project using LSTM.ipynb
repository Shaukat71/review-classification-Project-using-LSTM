{
 "cells": [
  {
   "cell_type": "code",
   "execution_count": 1,
   "metadata": {
    "id": "zFMrA72CiLbl"
   },
   "outputs": [
    {
     "name": "stderr",
     "output_type": "stream",
     "text": [
      "[nltk_data] Downloading package punkt to\n",
      "[nltk_data]     C:\\Users\\hp\\AppData\\Roaming\\nltk_data...\n",
      "[nltk_data]   Package punkt is already up-to-date!\n",
      "[nltk_data] Downloading package wordnet to\n",
      "[nltk_data]     C:\\Users\\hp\\AppData\\Roaming\\nltk_data...\n",
      "[nltk_data]   Package wordnet is already up-to-date!\n",
      "[nltk_data] Downloading package stopwords to\n",
      "[nltk_data]     C:\\Users\\hp\\AppData\\Roaming\\nltk_data...\n",
      "[nltk_data]   Package stopwords is already up-to-date!\n"
     ]
    }
   ],
   "source": [
    "import numpy as np\n",
    "import pandas as pd\n",
    "import matplotlib.pyplot as plt\n",
    "\n",
    "import nltk\n",
    "nltk.download(\"punkt\")\n",
    "nltk.download(\"wordnet\")\n",
    "nltk.download(\"stopwords\")\n",
    "\n",
    "from nltk.corpus import stopwords\n",
    "from nltk.tokenize import word_tokenize\n",
    "from nltk.stem import WordNetLemmatizer\n",
    "\n",
    "from sklearn.model_selection import train_test_split\n",
    "from tensorflow.keras.preprocessing.text import Tokenizer\n",
    "from tensorflow.keras.preprocessing import sequence #unique id\n",
    "\n",
    "from tensorflow.keras.models import Sequential\n",
    "from tensorflow.keras.layers import Dense, SimpleRNN, Dropout, Embedding,LSTM\n",
    "import warnings\n",
    "warnings.filterwarnings(\"ignore\")"
   ]
  },
  {
   "cell_type": "code",
   "execution_count": 2,
   "metadata": {
    "id": "--nWKA_sjafh"
   },
   "outputs": [],
   "source": [
    "df=pd.read_excel(\"moviereviews.xlsx\")"
   ]
  },
  {
   "cell_type": "code",
   "execution_count": 3,
   "metadata": {
    "colab": {
     "base_uri": "https://localhost:8080/",
     "height": 206
    },
    "id": "lGYa7xs3jka1",
    "outputId": "7db489a4-f3a2-4937-deab-e31ca641f53c"
   },
   "outputs": [
    {
     "data": {
      "text/html": [
       "<div>\n",
       "<style scoped>\n",
       "    .dataframe tbody tr th:only-of-type {\n",
       "        vertical-align: middle;\n",
       "    }\n",
       "\n",
       "    .dataframe tbody tr th {\n",
       "        vertical-align: top;\n",
       "    }\n",
       "\n",
       "    .dataframe thead th {\n",
       "        text-align: right;\n",
       "    }\n",
       "</style>\n",
       "<table border=\"1\" class=\"dataframe\">\n",
       "  <thead>\n",
       "    <tr style=\"text-align: right;\">\n",
       "      <th></th>\n",
       "      <th>label</th>\n",
       "      <th>review</th>\n",
       "    </tr>\n",
       "  </thead>\n",
       "  <tbody>\n",
       "    <tr>\n",
       "      <th>0</th>\n",
       "      <td>neg</td>\n",
       "      <td>how do films like mouse hunt get into theatres...</td>\n",
       "    </tr>\n",
       "    <tr>\n",
       "      <th>1</th>\n",
       "      <td>neg</td>\n",
       "      <td>some talented actresses are blessed with a dem...</td>\n",
       "    </tr>\n",
       "    <tr>\n",
       "      <th>2</th>\n",
       "      <td>pos</td>\n",
       "      <td>this has been an extraordinary year for austra...</td>\n",
       "    </tr>\n",
       "    <tr>\n",
       "      <th>3</th>\n",
       "      <td>pos</td>\n",
       "      <td>according to hollywood movies made in last few...</td>\n",
       "    </tr>\n",
       "    <tr>\n",
       "      <th>4</th>\n",
       "      <td>neg</td>\n",
       "      <td>my first press screening of 1998 and already i...</td>\n",
       "    </tr>\n",
       "  </tbody>\n",
       "</table>\n",
       "</div>"
      ],
      "text/plain": [
       "  label                                             review\n",
       "0   neg  how do films like mouse hunt get into theatres...\n",
       "1   neg  some talented actresses are blessed with a dem...\n",
       "2   pos  this has been an extraordinary year for austra...\n",
       "3   pos  according to hollywood movies made in last few...\n",
       "4   neg  my first press screening of 1998 and already i..."
      ]
     },
     "execution_count": 3,
     "metadata": {},
     "output_type": "execute_result"
    }
   ],
   "source": [
    "df.head()"
   ]
  },
  {
   "cell_type": "code",
   "execution_count": 4,
   "metadata": {
    "colab": {
     "base_uri": "https://localhost:8080/"
    },
    "id": "zEIjk41VjoET",
    "outputId": "006cc518-477c-48b2-941d-3f22e397e9a3"
   },
   "outputs": [
    {
     "data": {
      "text/plain": [
       "neg    1000\n",
       "pos    1000\n",
       "Name: label, dtype: int64"
      ]
     },
     "execution_count": 4,
     "metadata": {},
     "output_type": "execute_result"
    }
   ],
   "source": [
    "df[\"label\"].value_counts()"
   ]
  },
  {
   "cell_type": "code",
   "execution_count": 5,
   "metadata": {
    "id": "SUnvviiljyuK"
   },
   "outputs": [],
   "source": [
    "df[\"label\"].replace({\"neg\":0, \"pos\":1}, inplace=True)"
   ]
  },
  {
   "cell_type": "code",
   "execution_count": 6,
   "metadata": {
    "colab": {
     "base_uri": "https://localhost:8080/",
     "height": 206
    },
    "id": "5XX6vKIokOyA",
    "outputId": "15fbad8e-6fc7-45ca-c71c-b5547ab8a1cf"
   },
   "outputs": [
    {
     "data": {
      "text/html": [
       "<div>\n",
       "<style scoped>\n",
       "    .dataframe tbody tr th:only-of-type {\n",
       "        vertical-align: middle;\n",
       "    }\n",
       "\n",
       "    .dataframe tbody tr th {\n",
       "        vertical-align: top;\n",
       "    }\n",
       "\n",
       "    .dataframe thead th {\n",
       "        text-align: right;\n",
       "    }\n",
       "</style>\n",
       "<table border=\"1\" class=\"dataframe\">\n",
       "  <thead>\n",
       "    <tr style=\"text-align: right;\">\n",
       "      <th></th>\n",
       "      <th>label</th>\n",
       "      <th>review</th>\n",
       "    </tr>\n",
       "  </thead>\n",
       "  <tbody>\n",
       "    <tr>\n",
       "      <th>0</th>\n",
       "      <td>0</td>\n",
       "      <td>how do films like mouse hunt get into theatres...</td>\n",
       "    </tr>\n",
       "    <tr>\n",
       "      <th>1</th>\n",
       "      <td>0</td>\n",
       "      <td>some talented actresses are blessed with a dem...</td>\n",
       "    </tr>\n",
       "    <tr>\n",
       "      <th>2</th>\n",
       "      <td>1</td>\n",
       "      <td>this has been an extraordinary year for austra...</td>\n",
       "    </tr>\n",
       "    <tr>\n",
       "      <th>3</th>\n",
       "      <td>1</td>\n",
       "      <td>according to hollywood movies made in last few...</td>\n",
       "    </tr>\n",
       "    <tr>\n",
       "      <th>4</th>\n",
       "      <td>0</td>\n",
       "      <td>my first press screening of 1998 and already i...</td>\n",
       "    </tr>\n",
       "  </tbody>\n",
       "</table>\n",
       "</div>"
      ],
      "text/plain": [
       "   label                                             review\n",
       "0      0  how do films like mouse hunt get into theatres...\n",
       "1      0  some talented actresses are blessed with a dem...\n",
       "2      1  this has been an extraordinary year for austra...\n",
       "3      1  according to hollywood movies made in last few...\n",
       "4      0  my first press screening of 1998 and already i..."
      ]
     },
     "execution_count": 6,
     "metadata": {},
     "output_type": "execute_result"
    }
   ],
   "source": [
    "df.head()"
   ]
  },
  {
   "cell_type": "code",
   "execution_count": 7,
   "metadata": {
    "colab": {
     "base_uri": "https://localhost:8080/"
    },
    "id": "brG4MINtklf0",
    "outputId": "2c07a3dc-4ca0-4a5d-d098-51db56a1df8e"
   },
   "outputs": [
    {
     "data": {
      "text/plain": [
       "label      0\n",
       "review    62\n",
       "dtype: int64"
      ]
     },
     "execution_count": 7,
     "metadata": {},
     "output_type": "execute_result"
    }
   ],
   "source": [
    "df.isnull().sum()"
   ]
  },
  {
   "cell_type": "code",
   "execution_count": 8,
   "metadata": {
    "id": "GPUUzHd2kqmq"
   },
   "outputs": [],
   "source": [
    "df.dropna(inplace=True)"
   ]
  },
  {
   "cell_type": "code",
   "execution_count": 9,
   "metadata": {},
   "outputs": [
    {
     "data": {
      "text/plain": [
       "0       how do films like mouse hunt get into theatres...\n",
       "1       some talented actresses are blessed with a dem...\n",
       "2       this has been an extraordinary year for austra...\n",
       "3       according to hollywood movies made in last few...\n",
       "4       my first press screening of 1998 and already i...\n",
       "                              ...                        \n",
       "1995    i like movies with albert brooks , and i reall...\n",
       "1996    it might surprise some to know that joel and e...\n",
       "1997    the verdict : spine-chilling drama from horror...\n",
       "1998    i want to correct what i wrote in a former ret...\n",
       "1999    a couple of months ago , when i first download...\n",
       "Name: review, Length: 1938, dtype: object"
      ]
     },
     "execution_count": 9,
     "metadata": {},
     "output_type": "execute_result"
    }
   ],
   "source": [
    "df.review"
   ]
  },
  {
   "cell_type": "code",
   "execution_count": 10,
   "metadata": {
    "id": "34wVx-aMkQhs"
   },
   "outputs": [],
   "source": [
    "def cleantext(text):\n",
    "  tokens = word_tokenize(text.lower())\n",
    "  ftoken = [t for t in tokens if(t.isalpha())]\n",
    "  stop = stopwords.words(\"english\")\n",
    "  ctoken = [t for t in ftoken if(t not in stop)]\n",
    "  lemma = WordNetLemmatizer()\n",
    "  ltoken = [lemma.lemmatize(t) for t in ctoken]\n",
    "  return \" \".join(ltoken)"
   ]
  },
  {
   "cell_type": "code",
   "execution_count": 11,
   "metadata": {
    "id": "XihRG-8dkdOV"
   },
   "outputs": [],
   "source": [
    "df[\"clean_review\"]=df[\"review\"].apply(cleantext)"
   ]
  },
  {
   "cell_type": "code",
   "execution_count": 12,
   "metadata": {
    "id": "Pw0lDloukg5N"
   },
   "outputs": [],
   "source": [
    "x = df[\"clean_review\"]\n",
    "y = df[\"label\"]"
   ]
  },
  {
   "cell_type": "code",
   "execution_count": 13,
   "metadata": {
    "colab": {
     "base_uri": "https://localhost:8080/",
     "height": 337
    },
    "id": "XFgvckE_UQoY",
    "outputId": "d7764350-cd6f-4f68-df6b-64e799a3633f"
   },
   "outputs": [
    {
     "data": {
      "text/html": [
       "<div>\n",
       "<style scoped>\n",
       "    .dataframe tbody tr th:only-of-type {\n",
       "        vertical-align: middle;\n",
       "    }\n",
       "\n",
       "    .dataframe tbody tr th {\n",
       "        vertical-align: top;\n",
       "    }\n",
       "\n",
       "    .dataframe thead th {\n",
       "        text-align: right;\n",
       "    }\n",
       "</style>\n",
       "<table border=\"1\" class=\"dataframe\">\n",
       "  <thead>\n",
       "    <tr style=\"text-align: right;\">\n",
       "      <th></th>\n",
       "      <th>label</th>\n",
       "      <th>review</th>\n",
       "      <th>clean_review</th>\n",
       "    </tr>\n",
       "  </thead>\n",
       "  <tbody>\n",
       "    <tr>\n",
       "      <th>0</th>\n",
       "      <td>0</td>\n",
       "      <td>how do films like mouse hunt get into theatres...</td>\n",
       "      <td>film like mouse hunt get theatre law something...</td>\n",
       "    </tr>\n",
       "    <tr>\n",
       "      <th>1</th>\n",
       "      <td>0</td>\n",
       "      <td>some talented actresses are blessed with a dem...</td>\n",
       "      <td>talented actress blessed demonstrated wide act...</td>\n",
       "    </tr>\n",
       "    <tr>\n",
       "      <th>2</th>\n",
       "      <td>1</td>\n",
       "      <td>this has been an extraordinary year for austra...</td>\n",
       "      <td>extraordinary year australian film shine scoop...</td>\n",
       "    </tr>\n",
       "    <tr>\n",
       "      <th>3</th>\n",
       "      <td>1</td>\n",
       "      <td>according to hollywood movies made in last few...</td>\n",
       "      <td>according hollywood movie made last decade lif...</td>\n",
       "    </tr>\n",
       "    <tr>\n",
       "      <th>4</th>\n",
       "      <td>0</td>\n",
       "      <td>my first press screening of 1998 and already i...</td>\n",
       "      <td>first press screening already gotten prime can...</td>\n",
       "    </tr>\n",
       "  </tbody>\n",
       "</table>\n",
       "</div>"
      ],
      "text/plain": [
       "   label                                             review  \\\n",
       "0      0  how do films like mouse hunt get into theatres...   \n",
       "1      0  some talented actresses are blessed with a dem...   \n",
       "2      1  this has been an extraordinary year for austra...   \n",
       "3      1  according to hollywood movies made in last few...   \n",
       "4      0  my first press screening of 1998 and already i...   \n",
       "\n",
       "                                        clean_review  \n",
       "0  film like mouse hunt get theatre law something...  \n",
       "1  talented actress blessed demonstrated wide act...  \n",
       "2  extraordinary year australian film shine scoop...  \n",
       "3  according hollywood movie made last decade lif...  \n",
       "4  first press screening already gotten prime can...  "
      ]
     },
     "execution_count": 13,
     "metadata": {},
     "output_type": "execute_result"
    }
   ],
   "source": [
    "df.head()"
   ]
  },
  {
   "cell_type": "code",
   "execution_count": 14,
   "metadata": {
    "id": "bPbbr9NclL5-"
   },
   "outputs": [],
   "source": [
    "xtrain, xtest, ytrain, ytest = train_test_split(x, y, test_size=0.3, random_state=1)"
   ]
  },
  {
   "cell_type": "code",
   "execution_count": 15,
   "metadata": {
    "colab": {
     "base_uri": "https://localhost:8080/",
     "height": 337
    },
    "id": "eHkQOP_glNvq",
    "outputId": "08bed0d0-f770-4792-cdcc-270499388959"
   },
   "outputs": [
    {
     "data": {
      "text/html": [
       "<div>\n",
       "<style scoped>\n",
       "    .dataframe tbody tr th:only-of-type {\n",
       "        vertical-align: middle;\n",
       "    }\n",
       "\n",
       "    .dataframe tbody tr th {\n",
       "        vertical-align: top;\n",
       "    }\n",
       "\n",
       "    .dataframe thead th {\n",
       "        text-align: right;\n",
       "    }\n",
       "</style>\n",
       "<table border=\"1\" class=\"dataframe\">\n",
       "  <thead>\n",
       "    <tr style=\"text-align: right;\">\n",
       "      <th></th>\n",
       "      <th>label</th>\n",
       "      <th>review</th>\n",
       "      <th>clean_review</th>\n",
       "      <th>SentLen</th>\n",
       "    </tr>\n",
       "  </thead>\n",
       "  <tbody>\n",
       "    <tr>\n",
       "      <th>0</th>\n",
       "      <td>0</td>\n",
       "      <td>how do films like mouse hunt get into theatres...</td>\n",
       "      <td>film like mouse hunt get theatre law something...</td>\n",
       "      <td>205</td>\n",
       "    </tr>\n",
       "    <tr>\n",
       "      <th>1</th>\n",
       "      <td>0</td>\n",
       "      <td>some talented actresses are blessed with a dem...</td>\n",
       "      <td>talented actress blessed demonstrated wide act...</td>\n",
       "      <td>317</td>\n",
       "    </tr>\n",
       "    <tr>\n",
       "      <th>2</th>\n",
       "      <td>1</td>\n",
       "      <td>this has been an extraordinary year for austra...</td>\n",
       "      <td>extraordinary year australian film shine scoop...</td>\n",
       "      <td>327</td>\n",
       "    </tr>\n",
       "    <tr>\n",
       "      <th>3</th>\n",
       "      <td>1</td>\n",
       "      <td>according to hollywood movies made in last few...</td>\n",
       "      <td>according hollywood movie made last decade lif...</td>\n",
       "      <td>504</td>\n",
       "    </tr>\n",
       "    <tr>\n",
       "      <th>4</th>\n",
       "      <td>0</td>\n",
       "      <td>my first press screening of 1998 and already i...</td>\n",
       "      <td>first press screening already gotten prime can...</td>\n",
       "      <td>380</td>\n",
       "    </tr>\n",
       "  </tbody>\n",
       "</table>\n",
       "</div>"
      ],
      "text/plain": [
       "   label                                             review  \\\n",
       "0      0  how do films like mouse hunt get into theatres...   \n",
       "1      0  some talented actresses are blessed with a dem...   \n",
       "2      1  this has been an extraordinary year for austra...   \n",
       "3      1  according to hollywood movies made in last few...   \n",
       "4      0  my first press screening of 1998 and already i...   \n",
       "\n",
       "                                        clean_review  SentLen  \n",
       "0  film like mouse hunt get theatre law something...      205  \n",
       "1  talented actress blessed demonstrated wide act...      317  \n",
       "2  extraordinary year australian film shine scoop...      327  \n",
       "3  according hollywood movie made last decade lif...      504  \n",
       "4  first press screening already gotten prime can...      380  "
      ]
     },
     "execution_count": 15,
     "metadata": {},
     "output_type": "execute_result"
    }
   ],
   "source": [
    "sentlen = []\n",
    "\n",
    "for sent in df[\"clean_review\"]:\n",
    "  sentlen.append(len(word_tokenize(sent)))\n",
    "\n",
    "df[\"SentLen\"] = sentlen \n",
    "df.head()"
   ]
  },
  {
   "cell_type": "code",
   "execution_count": 16,
   "metadata": {
    "colab": {
     "base_uri": "https://localhost:8080/"
    },
    "id": "PM634CfFljjS",
    "outputId": "37812837-90d2-4b1d-e97b-649b88f69600"
   },
   "outputs": [
    {
     "data": {
      "text/plain": [
       "1337"
      ]
     },
     "execution_count": 16,
     "metadata": {},
     "output_type": "execute_result"
    }
   ],
   "source": [
    "max(sentlen)"
   ]
  },
  {
   "cell_type": "code",
   "execution_count": 17,
   "metadata": {
    "colab": {
     "base_uri": "https://localhost:8080/"
    },
    "id": "a7q991YEl0mW",
    "outputId": "d5adc34f-5d18-481c-b830-308bc974ee90"
   },
   "outputs": [
    {
     "data": {
      "text/plain": [
       "612.0"
      ]
     },
     "execution_count": 17,
     "metadata": {},
     "output_type": "execute_result"
    }
   ],
   "source": [
    "np.quantile(sentlen, 0.95)"
   ]
  },
  {
   "cell_type": "code",
   "execution_count": 18,
   "metadata": {
    "id": "TJ1kGP2ZmcZh"
   },
   "outputs": [],
   "source": [
    "# 95% of the review in doc has len equals to 612"
   ]
  },
  {
   "cell_type": "code",
   "execution_count": 19,
   "metadata": {
    "id": "Y9qVTbR3muxJ"
   },
   "outputs": [],
   "source": [
    "max_len = np.quantile(sentlen, 0.95)"
   ]
  },
  {
   "cell_type": "code",
   "execution_count": 20,
   "metadata": {
    "colab": {
     "base_uri": "https://localhost:8080/"
    },
    "id": "jveWYv9vmxFs",
    "outputId": "8da4dda5-39e1-4f26-95f8-093700306a3f"
   },
   "outputs": [],
   "source": [
    "tok = Tokenizer(char_level=False, split=\" \")\n",
    "#char_level\tif True, every character will be treated as a token.\n",
    "\n",
    "tok.fit_on_texts(xtrain)\n",
    "# tok.index_word"
   ]
  },
  {
   "cell_type": "code",
   "execution_count": 21,
   "metadata": {
    "colab": {
     "base_uri": "https://localhost:8080/"
    },
    "id": "PXcn1bx8n2T9",
    "outputId": "189d7122-9568-436f-8972-f2a986b1e888"
   },
   "outputs": [
    {
     "data": {
      "text/plain": [
       "28725"
      ]
     },
     "execution_count": 21,
     "metadata": {},
     "output_type": "execute_result"
    }
   ],
   "source": [
    "vocab_len = len(tok.index_word)\n",
    "vocab_len"
   ]
  },
  {
   "cell_type": "code",
   "execution_count": 22,
   "metadata": {
    "colab": {
     "base_uri": "https://localhost:8080/"
    },
    "id": "Jr2ysKMYoTN-",
    "outputId": "1c2c4c66-92b5-4ac5-a2b7-b8a7932d9ab1"
   },
   "outputs": [],
   "source": [
    "seqtrain = tok.texts_to_sequences(xtrain) #step1\n",
    "#seqtrain"
   ]
  },
  {
   "cell_type": "code",
   "execution_count": 23,
   "metadata": {
    "colab": {
     "base_uri": "https://localhost:8080/"
    },
    "id": "kqc_xFNKog4q",
    "outputId": "8d7708d7-cedb-47cc-9c79-5b5fcfe076a2"
   },
   "outputs": [
    {
     "data": {
      "text/plain": [
       "array([[   0,    0,    0, ...,    2,  120,  578],\n",
       "       [   0,    0,    0, ...,  524, 2256,    2],\n",
       "       [   0,    0,    0, ...,  340,  840,  568],\n",
       "       ...,\n",
       "       [   0,    0,    0, ...,    2,  358,   50],\n",
       "       [   0,    0,    0, ...,   75,  339,    2],\n",
       "       [   0,    0,    0, ...,  462,  288, 5994]])"
      ]
     },
     "execution_count": 23,
     "metadata": {},
     "output_type": "execute_result"
    }
   ],
   "source": [
    "seqmattrain = sequence.pad_sequences(seqtrain, maxlen= int(max_len)) #step2\n",
    "seqmattrain"
   ]
  },
  {
   "cell_type": "code",
   "execution_count": 24,
   "metadata": {
    "id": "OANaD0kWbc4C"
   },
   "outputs": [],
   "source": [
    "seqtest = tok.texts_to_sequences(xtest)\n",
    "seqmattest = sequence.pad_sequences(seqtest, maxlen=int(max_len))"
   ]
  },
  {
   "cell_type": "code",
   "execution_count": 25,
   "metadata": {
    "colab": {
     "base_uri": "https://localhost:8080/"
    },
    "id": "Xw1GBKyLc46s",
    "outputId": "3b0a4dee-8368-49e3-d745-6e9f98e15cce"
   },
   "outputs": [
    {
     "data": {
      "text/plain": [
       "28725"
      ]
     },
     "execution_count": 25,
     "metadata": {},
     "output_type": "execute_result"
    }
   ],
   "source": [
    "vocab_len"
   ]
  },
  {
   "cell_type": "code",
   "execution_count": 26,
   "metadata": {
    "colab": {
     "base_uri": "https://localhost:8080/"
    },
    "id": "dNMxvh3UboXH",
    "outputId": "f76f3964-96a7-448d-f3b8-8fadec950e51"
   },
   "outputs": [
    {
     "name": "stdout",
     "output_type": "stream",
     "text": [
      "Epoch 1/18\n",
      "3/3 [==============================] - 28s 6s/step - loss: 0.6926\n",
      "Epoch 2/18\n",
      "3/3 [==============================] - 20s 7s/step - loss: 0.6826\n",
      "Epoch 3/18\n",
      "3/3 [==============================] - 21s 7s/step - loss: 0.6677\n",
      "Epoch 4/18\n",
      "3/3 [==============================] - 21s 7s/step - loss: 0.6421\n",
      "Epoch 5/18\n",
      "3/3 [==============================] - 22s 7s/step - loss: 0.6020\n",
      "Epoch 6/18\n",
      "3/3 [==============================] - 22s 7s/step - loss: 0.5369\n",
      "Epoch 7/18\n",
      "3/3 [==============================] - 22s 7s/step - loss: 0.4549\n",
      "Epoch 8/18\n",
      "3/3 [==============================] - 22s 7s/step - loss: 0.3567\n",
      "Epoch 9/18\n",
      "3/3 [==============================] - 22s 7s/step - loss: 0.2692\n",
      "Epoch 10/18\n",
      "3/3 [==============================] - 21s 7s/step - loss: 0.1987\n",
      "Epoch 11/18\n",
      "3/3 [==============================] - 21s 7s/step - loss: 0.1461\n",
      "Epoch 12/18\n",
      "3/3 [==============================] - 21s 7s/step - loss: 0.1044\n",
      "Epoch 13/18\n",
      "3/3 [==============================] - 21s 7s/step - loss: 0.0737\n",
      "Epoch 14/18\n",
      "3/3 [==============================] - 22s 7s/step - loss: 0.0585\n",
      "Epoch 15/18\n",
      "3/3 [==============================] - 22s 7s/step - loss: 0.0412\n",
      "Epoch 16/18\n",
      "3/3 [==============================] - 22s 7s/step - loss: 0.0333\n",
      "Epoch 17/18\n",
      "3/3 [==============================] - 22s 7s/step - loss: 0.0268\n",
      "Epoch 18/18\n",
      "3/3 [==============================] - 22s 7s/step - loss: 0.0204\n",
      "19/19 [==============================] - 6s 197ms/step\n"
     ]
    }
   ],
   "source": [
    "rnn = Sequential()\n",
    "\n",
    "rnn.add(Embedding(vocab_len+1,700, input_length=int(max_len), mask_zero=True))\n",
    "rnn.add(LSTM(units=32, activation=\"tanh\"))\n",
    "rnn.add(Dense(units=32, activation=\"relu\"))\n",
    "rnn.add(Dropout(0.2))\n",
    "\n",
    "rnn.add(Dense(units=1, activation=\"sigmoid\"))\n",
    "\n",
    "rnn.compile(optimizer=\"adam\", loss=\"binary_crossentropy\")\n",
    "\n",
    "rnn.fit(seqmattrain, ytrain, batch_size=500, epochs=18)\n",
    "\n",
    "ypred = rnn.predict(seqmattest)\n",
    "\n",
    "ypred = ypred>0.5\n"
   ]
  },
  {
   "cell_type": "code",
   "execution_count": 27,
   "metadata": {},
   "outputs": [],
   "source": [
    "from sklearn.metrics import classification_report"
   ]
  },
  {
   "cell_type": "code",
   "execution_count": 28,
   "metadata": {
    "id": "ZQfi51ovegIG"
   },
   "outputs": [
    {
     "name": "stdout",
     "output_type": "stream",
     "text": [
      "              precision    recall  f1-score   support\n",
      "\n",
      "       False       0.80      0.75      0.77       315\n",
      "        True       0.72      0.78      0.75       267\n",
      "\n",
      "    accuracy                           0.76       582\n",
      "   macro avg       0.76      0.76      0.76       582\n",
      "weighted avg       0.77      0.76      0.76       582\n",
      "\n"
     ]
    }
   ],
   "source": [
    "print(classification_report(ypred,ytest))"
   ]
  }
 ],
 "metadata": {
  "colab": {
   "provenance": []
  },
  "kernelspec": {
   "display_name": "Python 3 (ipykernel)",
   "language": "python",
   "name": "python3"
  },
  "language_info": {
   "codemirror_mode": {
    "name": "ipython",
    "version": 3
   },
   "file_extension": ".py",
   "mimetype": "text/x-python",
   "name": "python",
   "nbconvert_exporter": "python",
   "pygments_lexer": "ipython3",
   "version": "3.9.12"
  }
 },
 "nbformat": 4,
 "nbformat_minor": 1
}
